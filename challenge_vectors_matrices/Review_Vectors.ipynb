{
 "cells": [
  {
   "cell_type": "markdown",
   "id": "e906e58b",
   "metadata": {},
   "source": [
    "Welcome to the review of vectors and matrices. Vectors and matrices provide a foundation for various mathematical operations, your understanding of them will be essential for effectively exploring and interpreting real-world social data. By the end of this review, I hope you'll be familiar with basic data manipulation and get a feel for how powerful they can be."
   ]
  },
  {
   "cell_type": "markdown",
   "id": "e44817be",
   "metadata": {},
   "source": [
    "## Learning goals\n",
    "Refresh your knowledge of vectors and matrices:\n",
    "- Vector (column) addition, subtraction, multiplication\n",
    "- Data merging and deleting\n",
    "- Data filtering and grouping"
   ]
  },
  {
   "cell_type": "markdown",
   "id": "6faa8bd0",
   "metadata": {},
   "source": [
    "# Background story"
   ]
  },
  {
   "cell_type": "markdown",
   "id": "1ad4f614",
   "metadata": {},
   "source": [
    "At the end of one year, a trading company has hired you to help them calculate their trading results. The company is connecting to a large number of buyers, each of them has bought a number of products from them. The products of the company are in three different categories: Toys, Decorations and Clothing. For each product, they recorded its price (as Unit_Price in the unit of dollars) and the quantity sold (Sales_Quantity). They also inclueded its price and the quantity sold last year (as Unit_Price_Last_Year and Sales_Quantity_Last_Year). The recorded data is stored in the table \"data_company_A_external.csv\".\n",
    "\n",
    "Use your knowledge of vector manipulation to help them in the following questions.\n",
    "\n",
    "Note: All the data in this file are not real data, the actual situation will be more complicated than this."
   ]
  },
  {
   "cell_type": "code",
   "execution_count": 1,
   "id": "cd584357",
   "metadata": {},
   "outputs": [],
   "source": [
    "import base64\n",
    "import numpy as np\n",
    "import pandas as pd\n",
    "import matplotlib.pyplot as plt"
   ]
  },
  {
   "cell_type": "code",
   "execution_count": 2,
   "id": "6eda4f6b",
   "metadata": {},
   "outputs": [],
   "source": [
    "# Read your data\n",
    "external_df = pd.read_csv('data_company_A_external.csv')"
   ]
  },
  {
   "cell_type": "markdown",
   "id": "8cb7e486",
   "metadata": {},
   "source": [
    "# Bronze medal: Vector (column) addition, multiplication\n",
    "\n",
    "a) As an important parameter of the trading status for this year, they wish they can know their total sales value for this year. The sales value of one product is the unit price ($) times the sales quantity (number). The value of total sales is the value of all product sales combined. And this is exactly the dot product of vectors.\n",
    "\n",
    "In other words, the equations of sales are:\n",
    "\n",
    "#### $\\text{Sales}_{\\text{ for one product}} = \\text{Unit Price} \\times \\text{Sales Quantity}$\n",
    "\n",
    "#### $\\text{Total Sales} = \\text{Sum of sales for all products}$\n",
    "\n",
    "If $V_{\\text{Unit Price}}$ is the vector representing all unit price, and $V_{\\text{Sales Quantity}}$ is the one for sales quantity, the equation will be:\n",
    "\n",
    "### $V_{\\text{Total Sales}} = V_{\\text{Unit Price}} \\cdot V_{\\text{Sales Quantity}}$\n",
    "\n",
    "Can you help them calculate their total sales for this year? (Try to manipulate on the entire column rather than each product)"
   ]
  },
  {
   "cell_type": "code",
   "execution_count": 4,
   "id": "85e55520",
   "metadata": {},
   "outputs": [
    {
     "name": "stdout",
     "output_type": "stream",
     "text": [
      "The total sales this year is: 20348107.40\n"
     ]
    }
   ],
   "source": [
    "import pandas as pd\n",
    "\n",
    "def compute_total_sales(df):\n",
    "    \n",
    "\n",
    "    # Extracting the relevant columns\n",
    "    unit_price = df['Unit_Price']\n",
    "    sales_quantity = df['Sales_Quantity']\n",
    "\n",
    "    # Calculate the total sales using vector dot product\n",
    "    total_sales = unit_price.dot(sales_quantity)\n",
    "\n",
    "    return total_sales\n",
    "\n",
    "# Load data\n",
    "external_df = pd.read_csv('data_company_A_external.csv')\n",
    "\n",
    "# Compute and print the total sales\n",
    "total_sales = compute_total_sales(external_df)\n",
    "print(\"The total sales this year is: {:.2f}\".format(total_sales))"
   ]
  },
  {
   "cell_type": "code",
   "execution_count": 5,
   "id": "229e6313",
   "metadata": {},
   "outputs": [
    {
     "ename": "TypeError",
     "evalue": "unsupported format string passed to NoneType.__format__",
     "output_type": "error",
     "traceback": [
      "\u001b[0;31m---------------------------------------------------------------------------\u001b[0m",
      "\u001b[0;31mTypeError\u001b[0m                                 Traceback (most recent call last)",
      "Cell \u001b[0;32mIn[5], line 7\u001b[0m\n\u001b[1;32m      4\u001b[0m     \u001b[38;5;28;01mpass\u001b[39;00m\n\u001b[1;32m      5\u001b[0m     \u001b[38;5;28;01mreturn\u001b[39;00m \u001b[38;5;66;03m# TO DO\u001b[39;00m\n\u001b[0;32m----> 7\u001b[0m \u001b[38;5;28mprint\u001b[39m(\u001b[38;5;124;43m\"\u001b[39;49m\u001b[38;5;124;43mThe total sales this year is: \u001b[39;49m\u001b[38;5;132;43;01m{:.2f}\u001b[39;49;00m\u001b[38;5;124;43m\"\u001b[39;49m\u001b[38;5;241;43m.\u001b[39;49m\u001b[43mformat\u001b[49m\u001b[43m(\u001b[49m\u001b[43mcompute_total_sales\u001b[49m\u001b[43m(\u001b[49m\u001b[43mexternal_df\u001b[49m\u001b[43m)\u001b[49m\u001b[43m)\u001b[49m)\n",
      "\u001b[0;31mTypeError\u001b[0m: unsupported format string passed to NoneType.__format__"
     ]
    }
   ],
   "source": [
    "# Complete this function to print the total sales\n",
    "def compute_total_sales(df):\n",
    "    # TO DO\n",
    "    pass\n",
    "    return # TO DO\n",
    "\n",
    "print(\"The total sales this year is: {:.2f}\".format(compute_total_sales(external_df)))"
   ]
  },
  {
   "cell_type": "code",
   "execution_count": 6,
   "id": "90c21a45-eab8-4f35-bd7d-298932aa4f08",
   "metadata": {},
   "outputs": [
    {
     "name": "stdout",
     "output_type": "stream",
     "text": [
      "def compute_total_sales(df):\n",
      "    total_sales = df['Unit_Price'].dot(df['Sales_Quantity'])\n",
      "    return total_sales\n",
      "\n",
      "The total sales this year is: 20348107.40\n"
     ]
    }
   ],
   "source": [
    "# Run the following code to show one of the possible answer\n",
    "print(base64.b64decode(\"ZGVmIGNvbXB1dGVfdG90YWxfc2FsZXMoZGYpOgogICAgdG90YWxfc2FsZXMgPSBkZlsnVW5pdF9QcmljZSddLmRvdChkZlsnU2FsZXNfUXVhbnRpdHknXSkKICAgIHJldHVybiB0b3RhbF9zYWxlcwoKVGhlIHRvdGFsIHNhbGVzIHRoaXMgeWVhciBpczogMjAzNDgxMDcuNDA=\").decode())"
   ]
  },
  {
   "cell_type": "markdown",
   "id": "9cdc0d28-c9e5-424d-85c6-a8dc12257198",
   "metadata": {},
   "source": [
    "b) Their data also contains information from last year. So we can calculate growth and growth rate of total sales compared to last year.\n",
    "\n",
    "The growth and growth rate are parameters that describes how much a particular variable, like total sales here, has grown over a period of time. Growth of total sales is calculated by subtracting the total sales of the previous year from the total sales of the current year. It answers the question, \"By how much did our sales figures change when compared to last year?\"\n",
    "\n",
    "Mathematically, the formula to calculate sales growth is:\n",
    "\n",
    "$ \\text{Growth} = \\text{Total Sales This Year} - \\text{Total Sales Last Year} $\n",
    "\n",
    "And growth rate is typically expressed as a percentage of the initial value and can be calculated using the formula:\n",
    "\n",
    "$ \\text{Growth Rate} = \\left( \\frac{{\\text{Growth}}}{{\\text{Total Sales Last Year}}} \\right) \\times 100 $\n",
    "\n",
    "Can you help them calculate what the growth and growth rate?"
   ]
  },
  {
   "cell_type": "code",
   "execution_count": 17,
   "id": "cf4001d2",
   "metadata": {},
   "outputs": [
    {
     "name": "stdout",
     "output_type": "stream",
     "text": [
      "Growth: 137616.03\n",
      "Growth Rate: 0.68 %\n"
     ]
    }
   ],
   "source": [
    "# Complete these two function to print the growth and growth rate\n",
    "def compute_growth(df):\n",
    "    total_sales_this_year = (df['Unit_Price'] * df['Sales_Quantity']).sum()\n",
    "    total_sales_last_year = (df['Unit_Price_Last_Year'] * df['Sales_Quantity_Last_Year']).sum()\n",
    "    growth = total_sales_this_year - total_sales_last_year\n",
    "    pass\n",
    "    return growth\n",
    "    \n",
    "\n",
    "def compute_growth_rate(df):\n",
    "    growth = compute_growth(df)\n",
    "    total_sales_last_year = (df['Unit_Price_Last_Year'] * df['Sales_Quantity_Last_Year']).sum()\n",
    "    growth_rate = (growth / total_sales_last_year) * 100\n",
    "    pass\n",
    "    return growth_rate\n",
    "\n",
    "print(\"Growth: {:.2f}\".format( compute_growth(external_df)))\n",
    "print(\"Growth Rate: {:.2f} %\".format( compute_growth_rate(external_df)))"
   ]
  },
  {
   "cell_type": "code",
   "execution_count": 14,
   "id": "5028e108",
   "metadata": {},
   "outputs": [
    {
     "ename": "KeyError",
     "evalue": "'Sales_Quantity'",
     "output_type": "error",
     "traceback": [
      "\u001b[0;31m---------------------------------------------------------------------------\u001b[0m",
      "\u001b[0;31mKeyError\u001b[0m                                  Traceback (most recent call last)",
      "File \u001b[0;32m~/Library/Python/3.9/lib/python/site-packages/pandas/core/indexes/base.py:3805\u001b[0m, in \u001b[0;36mIndex.get_loc\u001b[0;34m(self, key)\u001b[0m\n\u001b[1;32m   3804\u001b[0m \u001b[38;5;28;01mtry\u001b[39;00m:\n\u001b[0;32m-> 3805\u001b[0m     \u001b[38;5;28;01mreturn\u001b[39;00m \u001b[38;5;28;43mself\u001b[39;49m\u001b[38;5;241;43m.\u001b[39;49m\u001b[43m_engine\u001b[49m\u001b[38;5;241;43m.\u001b[39;49m\u001b[43mget_loc\u001b[49m\u001b[43m(\u001b[49m\u001b[43mcasted_key\u001b[49m\u001b[43m)\u001b[49m\n\u001b[1;32m   3806\u001b[0m \u001b[38;5;28;01mexcept\u001b[39;00m \u001b[38;5;167;01mKeyError\u001b[39;00m \u001b[38;5;28;01mas\u001b[39;00m err:\n",
      "File \u001b[0;32mindex.pyx:167\u001b[0m, in \u001b[0;36mpandas._libs.index.IndexEngine.get_loc\u001b[0;34m()\u001b[0m\n",
      "File \u001b[0;32mindex.pyx:196\u001b[0m, in \u001b[0;36mpandas._libs.index.IndexEngine.get_loc\u001b[0;34m()\u001b[0m\n",
      "File \u001b[0;32mpandas/_libs/hashtable_class_helper.pxi:7081\u001b[0m, in \u001b[0;36mpandas._libs.hashtable.PyObjectHashTable.get_item\u001b[0;34m()\u001b[0m\n",
      "File \u001b[0;32mpandas/_libs/hashtable_class_helper.pxi:7089\u001b[0m, in \u001b[0;36mpandas._libs.hashtable.PyObjectHashTable.get_item\u001b[0;34m()\u001b[0m\n",
      "\u001b[0;31mKeyError\u001b[0m: 'Sales_Quantity'",
      "\nThe above exception was the direct cause of the following exception:\n",
      "\u001b[0;31mKeyError\u001b[0m                                  Traceback (most recent call last)",
      "Cell \u001b[0;32mIn[14], line 69\u001b[0m\n\u001b[1;32m     66\u001b[0m external_df \u001b[38;5;241m=\u001b[39m pd\u001b[38;5;241m.\u001b[39mread_csv(\u001b[38;5;124m'\u001b[39m\u001b[38;5;124mdata_company_A_external.csv\u001b[39m\u001b[38;5;124m'\u001b[39m)\n\u001b[1;32m     68\u001b[0m \u001b[38;5;66;03m# Calculate and print growth and growth rate\u001b[39;00m\n\u001b[0;32m---> 69\u001b[0m growth \u001b[38;5;241m=\u001b[39m \u001b[43mcompute_growth\u001b[49m\u001b[43m(\u001b[49m\u001b[43mexternal_df\u001b[49m\u001b[43m)\u001b[49m\n\u001b[1;32m     70\u001b[0m growth_rate \u001b[38;5;241m=\u001b[39m compute_growth_rate(external_df)\n\u001b[1;32m     72\u001b[0m \u001b[38;5;28mprint\u001b[39m(\u001b[38;5;124m\"\u001b[39m\u001b[38;5;124mGrowth: \u001b[39m\u001b[38;5;132;01m{:.2f}\u001b[39;00m\u001b[38;5;124m\"\u001b[39m\u001b[38;5;241m.\u001b[39mformat(growth))\n",
      "Cell \u001b[0;32mIn[14], line 37\u001b[0m, in \u001b[0;36mcompute_growth\u001b[0;34m(df)\u001b[0m\n\u001b[1;32m     35\u001b[0m \u001b[38;5;66;03m# Compute total sales for this year and last year\u001b[39;00m\n\u001b[1;32m     36\u001b[0m total_sales_this_year \u001b[38;5;241m=\u001b[39m compute_total_sales(df)\n\u001b[0;32m---> 37\u001b[0m total_sales_last_year \u001b[38;5;241m=\u001b[39m \u001b[43mcompute_total_sales\u001b[49m\u001b[43m(\u001b[49m\u001b[43mdf\u001b[49m\u001b[43m[\u001b[49m\u001b[43m[\u001b[49m\u001b[43munit_price_column\u001b[49m\u001b[43m,\u001b[49m\u001b[43m \u001b[49m\u001b[38;5;124;43m'\u001b[39;49m\u001b[38;5;124;43mSales_Quantity_Last_Year\u001b[39;49m\u001b[38;5;124;43m'\u001b[39;49m\u001b[43m]\u001b[49m\u001b[43m]\u001b[49m\u001b[43m)\u001b[49m\n\u001b[1;32m     39\u001b[0m \u001b[38;5;66;03m# Calculate growth\u001b[39;00m\n\u001b[1;32m     40\u001b[0m growth \u001b[38;5;241m=\u001b[39m total_sales_this_year \u001b[38;5;241m-\u001b[39m total_sales_last_year\n",
      "Cell \u001b[0;32mIn[14], line 15\u001b[0m, in \u001b[0;36mcompute_total_sales\u001b[0;34m(df)\u001b[0m\n\u001b[1;32m     13\u001b[0m \u001b[38;5;66;03m# Extract the relevant columns\u001b[39;00m\n\u001b[1;32m     14\u001b[0m unit_price \u001b[38;5;241m=\u001b[39m df[\u001b[38;5;124m'\u001b[39m\u001b[38;5;124mUnit_Price\u001b[39m\u001b[38;5;124m'\u001b[39m]\n\u001b[0;32m---> 15\u001b[0m sales_quantity \u001b[38;5;241m=\u001b[39m \u001b[43mdf\u001b[49m\u001b[43m[\u001b[49m\u001b[38;5;124;43m'\u001b[39;49m\u001b[38;5;124;43mSales_Quantity\u001b[39;49m\u001b[38;5;124;43m'\u001b[39;49m\u001b[43m]\u001b[49m  \u001b[38;5;66;03m# Assuming 'Sales_Quantity' is present\u001b[39;00m\n\u001b[1;32m     17\u001b[0m \u001b[38;5;66;03m# Calculate the total sales using vector dot product\u001b[39;00m\n\u001b[1;32m     18\u001b[0m total_sales \u001b[38;5;241m=\u001b[39m unit_price\u001b[38;5;241m.\u001b[39mdot(sales_quantity)\n",
      "File \u001b[0;32m~/Library/Python/3.9/lib/python/site-packages/pandas/core/frame.py:4090\u001b[0m, in \u001b[0;36mDataFrame.__getitem__\u001b[0;34m(self, key)\u001b[0m\n\u001b[1;32m   4088\u001b[0m \u001b[38;5;28;01mif\u001b[39;00m \u001b[38;5;28mself\u001b[39m\u001b[38;5;241m.\u001b[39mcolumns\u001b[38;5;241m.\u001b[39mnlevels \u001b[38;5;241m>\u001b[39m \u001b[38;5;241m1\u001b[39m:\n\u001b[1;32m   4089\u001b[0m     \u001b[38;5;28;01mreturn\u001b[39;00m \u001b[38;5;28mself\u001b[39m\u001b[38;5;241m.\u001b[39m_getitem_multilevel(key)\n\u001b[0;32m-> 4090\u001b[0m indexer \u001b[38;5;241m=\u001b[39m \u001b[38;5;28;43mself\u001b[39;49m\u001b[38;5;241;43m.\u001b[39;49m\u001b[43mcolumns\u001b[49m\u001b[38;5;241;43m.\u001b[39;49m\u001b[43mget_loc\u001b[49m\u001b[43m(\u001b[49m\u001b[43mkey\u001b[49m\u001b[43m)\u001b[49m\n\u001b[1;32m   4091\u001b[0m \u001b[38;5;28;01mif\u001b[39;00m is_integer(indexer):\n\u001b[1;32m   4092\u001b[0m     indexer \u001b[38;5;241m=\u001b[39m [indexer]\n",
      "File \u001b[0;32m~/Library/Python/3.9/lib/python/site-packages/pandas/core/indexes/base.py:3812\u001b[0m, in \u001b[0;36mIndex.get_loc\u001b[0;34m(self, key)\u001b[0m\n\u001b[1;32m   3807\u001b[0m     \u001b[38;5;28;01mif\u001b[39;00m \u001b[38;5;28misinstance\u001b[39m(casted_key, \u001b[38;5;28mslice\u001b[39m) \u001b[38;5;129;01mor\u001b[39;00m (\n\u001b[1;32m   3808\u001b[0m         \u001b[38;5;28misinstance\u001b[39m(casted_key, abc\u001b[38;5;241m.\u001b[39mIterable)\n\u001b[1;32m   3809\u001b[0m         \u001b[38;5;129;01mand\u001b[39;00m \u001b[38;5;28many\u001b[39m(\u001b[38;5;28misinstance\u001b[39m(x, \u001b[38;5;28mslice\u001b[39m) \u001b[38;5;28;01mfor\u001b[39;00m x \u001b[38;5;129;01min\u001b[39;00m casted_key)\n\u001b[1;32m   3810\u001b[0m     ):\n\u001b[1;32m   3811\u001b[0m         \u001b[38;5;28;01mraise\u001b[39;00m InvalidIndexError(key)\n\u001b[0;32m-> 3812\u001b[0m     \u001b[38;5;28;01mraise\u001b[39;00m \u001b[38;5;167;01mKeyError\u001b[39;00m(key) \u001b[38;5;28;01mfrom\u001b[39;00m \u001b[38;5;21;01merr\u001b[39;00m\n\u001b[1;32m   3813\u001b[0m \u001b[38;5;28;01mexcept\u001b[39;00m \u001b[38;5;167;01mTypeError\u001b[39;00m:\n\u001b[1;32m   3814\u001b[0m     \u001b[38;5;66;03m# If we have a listlike key, _check_indexing_error will raise\u001b[39;00m\n\u001b[1;32m   3815\u001b[0m     \u001b[38;5;66;03m#  InvalidIndexError. Otherwise we fall through and re-raise\u001b[39;00m\n\u001b[1;32m   3816\u001b[0m     \u001b[38;5;66;03m#  the TypeError.\u001b[39;00m\n\u001b[1;32m   3817\u001b[0m     \u001b[38;5;28mself\u001b[39m\u001b[38;5;241m.\u001b[39m_check_indexing_error(key)\n",
      "\u001b[0;31mKeyError\u001b[0m: 'Sales_Quantity'"
     ]
    }
   ],
   "source": [
    "import pandas as pd\n",
    "\n",
    "def compute_total_sales(df):\n",
    "    \"\"\"Calculates the total sales value for a given DataFrame.\n",
    "\n",
    "    Args:\n",
    "        df (pandas.DataFrame): The DataFrame containing product data.\n",
    "\n",
    "    Returns:\n",
    "        float: The total sales value.\n",
    "    \"\"\"\n",
    "\n",
    "    # Extract the relevant columns\n",
    "    unit_price = df['Unit_Price']\n",
    "    sales_quantity = df['Sales_Quantity']  # Assuming 'Sales_Quantity' is present\n",
    "\n",
    "    # Calculate the total sales using vector dot product\n",
    "    total_sales = unit_price.dot(sales_quantity)\n",
    "\n",
    "    return total_sales\n",
    "\n",
    "def compute_growth(df):\n",
    "    \"\"\"Calculates the growth of total sales compared to the previous year.\n",
    "\n",
    "    Args:\n",
    "        df (pandas.DataFrame): The DataFrame containing product data.\n",
    "\n",
    "    Returns:\n",
    "        float: The growth of total sales.\n",
    "    \"\"\"\n",
    "\n",
    "    # Check for the actual column name in your data\n",
    "    unit_price_column = 'Unit_Price'  # Replace with the correct column name if needed\n",
    "\n",
    "    # Compute total sales for this year and last year\n",
    "    total_sales_this_year = compute_total_sales(df)\n",
    "    total_sales_last_year = compute_total_sales(df[[unit_price_column, 'Sales_Quantity_Last_Year']])\n",
    "\n",
    "    # Calculate growth\n",
    "    growth = total_sales_this_year - total_sales_last_year\n",
    "\n",
    "    return growth\n",
    "\n",
    "def compute_growth_rate(df):\n",
    "    \"\"\"Calculates the growth rate of total sales compared to the previous year.\n",
    "\n",
    "    Args:\n",
    "        df (pandas.DataFrame): The DataFrame containing product data.\n",
    "\n",
    "    Returns:\n",
    "        float: The growth rate of total sales.\n",
    "    \"\"\"\n",
    "\n",
    "    # Compute growth\n",
    "    growth = compute_growth(df)\n",
    "\n",
    "    # Compute total sales for last year\n",
    "    total_sales_last_year = compute_total_sales(df[['Unit_Price_Last_Year', 'Sales_Quantity_Last_Year']])\n",
    "\n",
    "    # Calculate growth rate\n",
    "    growth_rate = (growth / total_sales_last_year) * 100\n",
    "\n",
    "    return growth_rate\n",
    "\n",
    "# Load the data (assuming the file exists)\n",
    "external_df = pd.read_csv('data_company_A_external.csv')\n",
    "\n",
    "# Calculate and print growth and growth rate\n",
    "growth = compute_growth(external_df)\n",
    "growth_rate = compute_growth_rate(external_df)\n",
    "\n",
    "print(\"Growth: {:.2f}\".format(growth))\n",
    "print(\"Growth Rate: {:.2f} %\".format(growth_rate))"
   ]
  },
  {
   "cell_type": "markdown",
   "id": "50c09e47",
   "metadata": {},
   "source": [
    "# Silver medal: Database merging and deleting\n",
    "\n",
    "a) In a further step, the company wanted to know how much money it had made this year. For this purpose, they provide another internal dataset for this year that captures the profit margin for each product, the promotional inputs they spend, and fixed costs as the sum of other expenses.\n",
    "\n",
    "The equation for the total profit is:\n",
    "\n",
    "### $\\text{Total Profit} = \\sum \\left( \\text{Sales} \\times \\text{Profit Margin} - \\text{Fixed Costs} \\right)$\n",
    "\n",
    "The sales here is the sales for one prodoct, and the summation sumes over all products.\n",
    "\n",
    "Can you combine these two sets of data into one and calculate the total profit?"
   ]
  },
  {
   "cell_type": "code",
   "execution_count": null,
   "id": "7bf0b45c-1f80-497d-a754-569e0c5e7070",
   "metadata": {},
   "outputs": [],
   "source": [
    "# You may need to import the internal data\n",
    "# TO DO"
   ]
  },
  {
   "cell_type": "code",
   "execution_count": null,
   "id": "9993a907-0eae-4922-ad3d-2c3df5d81557",
   "metadata": {},
   "outputs": [],
   "source": [
    "# You can combine these two sets of data here\n",
    "merged_df = None # TO DO"
   ]
  },
  {
   "cell_type": "code",
   "execution_count": null,
   "id": "7a643cb0",
   "metadata": {},
   "outputs": [],
   "source": [
    "# Start to calculate the total profit\n",
    "def compute_total_profit(merged_df):\n",
    "    # TO DO\n",
    "    pass\n",
    "    return # TO DO\n",
    "\n",
    "print(f\"Total Profit: {compute_total_profit(merged_df):.2f}\")"
   ]
  },
  {
   "cell_type": "markdown",
   "id": "265d6ca4",
   "metadata": {},
   "source": [
    "b) Two buyers (buyer IDs: \"IFKKSE\" and \"IFYWAB\") cancelled their orders on short notice. In this case we would like to delete the corresponding products and calculate the new profit."
   ]
  },
  {
   "cell_type": "code",
   "execution_count": null,
   "id": "af76ab21",
   "metadata": {},
   "outputs": [],
   "source": [
    "# Start to calculate new profit after removing certain buyers\n",
    "def compute_profit_delete(df):\n",
    "    # TO DO\n",
    "    pass\n",
    "    return # TO DO\n",
    "\n",
    "print(f\"New Profit: {compute_profit_delete(merged_df):.2f}\")"
   ]
  },
  {
   "cell_type": "markdown",
   "id": "a033601a",
   "metadata": {},
   "source": [
    "c) While in practice, it is often not possible to simply delete entries from the database. Technically, this can cause problems for other functions that depend on the entry. And in the commercial sector, there are often additional trading rules to solve these problems.\n",
    "\n",
    "Now let's assume that a common treatment taken by this company is to return the products to the manufacturer. And when they return the corresponding products to the manufacturer, the manufacturer refunds them only 80% of the unit price.\n",
    "\n",
    "Can you calculate the profit in this case? Do you need to re-import the database when you complete this step?"
   ]
  },
  {
   "cell_type": "code",
   "execution_count": null,
   "id": "28100311",
   "metadata": {},
   "outputs": [],
   "source": [
    "# Start to calculate profit with refunds from manufacturer\n",
    "def compute_profit_refund(df):\n",
    "    # TO DO\n",
    "    pass\n",
    "    return # TO DO\n",
    "\n",
    "print(f\"Profit with Adjustments: {compute_profit_refund(merged_df):.2f}\")"
   ]
  },
  {
   "cell_type": "markdown",
   "id": "80137b3e",
   "metadata": {},
   "source": [
    "# Gold medal: Data filtering and grouping\n",
    "\n",
    "a) We would like to discover further information hidden in the data. Can you plot sales against promotional inputs and check if some kind of pattern exists? \n",
    "\n",
    "If you have found some patterns, you can move on to the next question. If not, at the end of this content (the part marked by *) we have provided two hints for you to use at your leisure.\n",
    "\n",
    "(Note again, the patterns in this question is not the actual law of the market.)"
   ]
  },
  {
   "cell_type": "code",
   "execution_count": null,
   "id": "4cac80b2-b920-4519-afbf-7384074a717f",
   "metadata": {},
   "outputs": [],
   "source": []
  },
  {
   "cell_type": "markdown",
   "id": "31627561",
   "metadata": {},
   "source": [
    "b) According to the observed patterns, if there is a product belonging to the \"Decorations\" category and the company spends $15,000 on its promotional input, how many sales can be expected? (Try to estimate its value, or choose an answer from the following options)"
   ]
  },
  {
   "cell_type": "code",
   "execution_count": null,
   "id": "c96b671d",
   "metadata": {},
   "outputs": [],
   "source": [
    "# start estimating the sales, you could import other package if you want.\n",
    "def estimate_sales(df):\n",
    "    # TO DO\n",
    "    pass\n",
    "    return # TO DO\n",
    "\n",
    "# Select an answer for the sales prediction, pay attention that the dictionary key is capitalized.\n",
    "def select_answer(df):\n",
    "    answer_ranges = {\n",
    "        'A': 'Between 30000 and 34000',\n",
    "        'B': 'Between 34000 and 38000',\n",
    "        'C': 'Between 38000 and 42000',\n",
    "        'D': 'Between 42000 and 46000',\n",
    "        'E': 'Between 46000 and 50000',\n",
    "        'F': 'Between 50000 and 60000',\n",
    "    }\n",
    "    return # TO DO, solution can be selected here\n",
    "\n",
    "if select_answer(merged_df) is None:\n",
    "    print(\"Estimated sales for a Decorations product with $15,000 in promotional inputs: {:.2f}\".format(estimate_sales(merged_df)))\n",
    "else:\n",
    "    print(\"Estimated sales for a Decorations product with $15,000 in promotional inputs: {:s}\".format(select_answer(merged_df)))"
   ]
  },
  {
   "cell_type": "markdown",
   "id": "4abf85c3",
   "metadata": {},
   "source": [
    "*: Here are two hints for the gold Medal, they will make this task easier. You can try to find the pattern by yourself and then check the hints at some point later."
   ]
  },
  {
   "cell_type": "code",
   "execution_count": null,
   "id": "b215c0c5-45c8-4abc-87f6-5284b5518c07",
   "metadata": {},
   "outputs": [],
   "source": [
    "# Run the following code to show hint 1\n",
    "print(base64.b64decode(\"SGludCAxOiBUaGUgdGFibGUgY29udGFpbnMgYWxsIGtpbmRzIG9mIHByb2R1Y3RzIG9mIHRoZSBjb21wYW55LCB3aGljaCBtYXkgYWxzbyBjb250YWluIHNwZWNpYWwgcHJvZHVjdHMgb3IgcHJvZHVjdHMgc29sZCB0aHJvdWdoIHNwZWNpYWwgbWV0aG9kcy4gU3VjaCBwcm9kdWN0cyBhcmUgY2hhcmFjdGVyaXplZCBieSB0aGUgZmFjdCB0aGF0IHRoZXkgd2lsbCB1c3VhbGx5IGhhdmUgZXhjZXB0aW9uYWxseSBoaWdoIG9yIGxvdyBwcm9maXQgbWFyZ2lucy4=\").decode())"
   ]
  },
  {
   "cell_type": "code",
   "execution_count": null,
   "id": "170f6f35-86b9-459f-a2e2-d4aa8449d517",
   "metadata": {},
   "outputs": [],
   "source": [
    "# Run the following code to show hint 2\n",
    "print(base64.b64decode(\"SGludCAyOiBEaWZmZXJlbnQgcHJvZHVjdCBjYXRlZ29yaWVzIGhhdmUgZGlmZmVyZW50IG1hcmtldHMgYW5kIG1heSBoYXZlIGRpZmZlcmVudCBwYXR0ZXJucy4=\").decode())"
   ]
  }
 ],
 "metadata": {
  "kernelspec": {
   "display_name": "Python 3",
   "language": "python",
   "name": "python3"
  },
  "language_info": {
   "codemirror_mode": {
    "name": "ipython",
    "version": 3
   },
   "file_extension": ".py",
   "mimetype": "text/x-python",
   "name": "python",
   "nbconvert_exporter": "python",
   "pygments_lexer": "ipython3",
   "version": "3.9.6"
  }
 },
 "nbformat": 4,
 "nbformat_minor": 5
}
